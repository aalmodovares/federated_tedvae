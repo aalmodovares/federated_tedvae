{
 "cells": [
  {
   "cell_type": "code",
   "execution_count": 34,
   "id": "initial_id",
   "metadata": {
    "collapsed": true,
    "ExecuteTime": {
     "end_time": "2023-11-02T10:39:30.459910007Z",
     "start_time": "2023-11-02T10:39:30.436591155Z"
    }
   },
   "outputs": [],
   "source": [
    "import os\n",
    "os.environ[\"CUDA_VISIBLE_DEVICES\"] = \"-1\"\n",
    "import numpy as np\n",
    "import pickle\n",
    "import subprocess\n",
    "import warnings\n",
    "warnings.filterwarnings('ignore')"
   ]
  },
  {
   "cell_type": "code",
   "execution_count": 35,
   "outputs": [],
   "source": [
    "verbose=1\n",
    "\n",
    "data_setting = 'tedvae_ihdp' # you can set tedvae_ihdp_b, the rest of datasets is not available in this example.\n",
    "test_val_split = '547,100,100'\n",
    "data_path = './datasets'\n",
    "fedavg_strategies='fedavg_all,fedavg_all_vanilla,none' # none is TV isolated\n",
    "\n",
    "n_nodes = 2\n",
    "\n",
    "datasets =  np.arange(1,21) #datasets used in the experiment\n",
    "#load the dict with imbalances"
   ],
   "metadata": {
    "collapsed": false,
    "ExecuteTime": {
     "end_time": "2023-11-02T10:39:30.649605035Z",
     "start_time": "2023-11-02T10:39:30.441627401Z"
    }
   },
   "id": "34331896b8b42039"
  },
  {
   "cell_type": "code",
   "execution_count": 36,
   "outputs": [
    {
     "data": {
      "text/plain": "'/home/almo/CODE/federated_tedvae'"
     },
     "execution_count": 36,
     "metadata": {},
     "output_type": "execute_result"
    }
   ],
   "source": [
    "os.getcwd()"
   ],
   "metadata": {
    "collapsed": false,
    "ExecuteTime": {
     "end_time": "2023-11-02T10:39:30.774994344Z",
     "start_time": "2023-11-02T10:39:30.643939244Z"
    }
   },
   "id": "95c925774cad94e3"
  },
  {
   "cell_type": "code",
   "execution_count": 37,
   "outputs": [],
   "source": [
    "\n",
    "with open('imbalances.pkl', 'rb') as f:\n",
    "    imbalances_dict = pickle.load(f)\n",
    "    \n",
    "imbalance_name = 'tedvae_ihdp_a_ablation_vanilla'#'tedvae_ihdp_a_random' # other option is 'tedvae_ihdp_a_ablation_vanilla'. To add more \n",
    "# imbalances, modify imbalances.pkl via \n",
    "# imbalances.py scrit\n",
    "imbalance = imbalances_dict[imbalance_name] # string of the imbalance"
   ],
   "metadata": {
    "collapsed": false,
    "ExecuteTime": {
     "end_time": "2023-11-02T10:39:30.821585318Z",
     "start_time": "2023-11-02T10:39:30.734081506Z"
    }
   },
   "id": "3e152b1f78f1e75f"
  },
  {
   "cell_type": "code",
   "execution_count": 38,
   "outputs": [
    {
     "name": "stdout",
     "output_type": "stream",
     "text": [
      "results/tedvae_ihdp/tedvae_ihdp_a_ablation_vanilla\n"
     ]
    }
   ],
   "source": [
    "\n",
    "with open('imbalances.pkl', 'rb') as f:\n",
    "    imbalances_dict = pickle.load(f)\n",
    "    \n",
    "# imbalances.py scrit\n",
    "imbalance = imbalances_dict[imbalance_name] # string of the imbalance\n",
    "\n",
    "if not os.path.exists(f'results/{data_setting}'):\n",
    "    os.makedirs(f'results/{data_setting}')\n",
    "\n",
    "results_path = f'results/{data_setting}/{imbalance_name}'\n",
    "imbalances = imbalances_dict[imbalance_name]\n",
    "if not os.path.exists(results_path):\n",
    "    os.makedirs(results_path)\n",
    "    \n",
    "print(results_path)\n",
    "\n",
    "file = open(results_path + '/imbalances', 'wb')\n",
    "np.save(file, imbalances)\n",
    "file.close()\n"
   ],
   "metadata": {
    "collapsed": false,
    "ExecuteTime": {
     "end_time": "2023-11-02T10:39:30.904255026Z",
     "start_time": "2023-11-02T10:39:30.811576296Z"
    }
   },
   "id": "e97e4609e7715ef2"
  },
  {
   "cell_type": "code",
   "execution_count": null,
   "outputs": [
    {
     "name": "stderr",
     "output_type": "stream",
     "text": [
      "/home/almo/anaconda3/envs/federated_tedvae/lib/python3.9/site-packages/tensorflow_addons/utils/tfa_eol_msg.py:23: UserWarning: \n",
      "\n",
      "TensorFlow Addons (TFA) has ended development and introduction of new features.\n",
      "TFA has entered a minimal maintenance and release mode until a planned end of life in May 2024.\n",
      "Please modify downstream libraries to take dependencies from other repositories in our TensorFlow community (e.g. Keras, Keras-CV, and Keras-NLP). \n",
      "\n",
      "For more information see: https://github.com/tensorflow/addons/issues/2807 \n",
      "\n",
      "  warnings.warn(\n"
     ]
    },
    {
     "name": "stdout",
     "output_type": "stream",
     "text": [
      "physical_devices []\n",
      "results/tedvae_ihdp/tedvae_ihdp_a_ablation_vanilla/51,222,51,222\n",
      "DATASET PRESAVED\n",
      "\n",
      " Epoch 0\n",
      "Domain[0] - TOTAL loss: 80.17 - Domain[1] - TOTAL loss: 85.18\n",
      "Domain[0] loss_reconstruction: 22.79 - Domain[1] loss_reconstruction: 22.62\n",
      "Domain[0] loss_kl: 8.17 - Domain[1] loss_kl: 8.52\n",
      "Domain[0] loss_disentanglement: 46.92 - Domain[1] loss_disentanglement: 51.7\n",
      "Domain[0] loss_q_y: 31.73 - Domain[1] loss_q_y: 34.47\n",
      "Domain[0] loss_q_t: 15.19 - Domain[1] loss_q_t: 17.23\n",
      "Domain[0] elbo: 30.96 - Domain[1] elbo: 31.14\n",
      "Domain[0] loss_p_y: 1.6 - Domain[1] loss_p_y: 1.68\n",
      "Domain[0] loss_p_t: 0.69 - Domain[1] loss_p_t: 0.67\n",
      "Domain[0] loss_p_zt: -11.85 - Domain[1] loss_p_zt: -11.66\n",
      "Domain[0] loss_p_zc: -24.88 - Domain[1] loss_p_zc: -25.41\n",
      "Domain[0] loss_q_zt: -10.68 - Domain[1] loss_q_zt: -10.45\n",
      "Domain[0] loss_q_zc: -20.23 - Domain[1] loss_q_zc: -21.17\n",
      "Domain[0] loss_q_zy: -10.2 - Domain[1] loss_q_zy: -9.89\n",
      "Domain[0] loss_model: 2.29 - Domain[1] loss_model: 2.34\n",
      "Domain[0] val_loss_p_t: 0.66 - Domain[1] val_loss_p_t: 0.73\n",
      "Domain[0] val_loss_p_y: 1.97 - Domain[1] val_loss_p_y: 1.9\n",
      "\n",
      " Epoch 200\n",
      "Domain[0] - TOTAL loss: 25.96 - Domain[1] - TOTAL loss: 24.94\n",
      "Domain[0] loss_reconstruction: 11.88 - Domain[1] loss_reconstruction: 12.35\n",
      "Domain[0] loss_kl: 8.8 - Domain[1] loss_kl: 8.16\n",
      "Domain[0] loss_disentanglement: 4.96 - Domain[1] loss_disentanglement: 4.15\n",
      "Domain[0] loss_q_y: -2.85 - Domain[1] loss_q_y: -3.68\n",
      "Domain[0] loss_q_t: 7.81 - Domain[1] loss_q_t: 7.83\n",
      "Domain[0] elbo: 20.68 - Domain[1] elbo: 20.51\n",
      "Domain[0] loss_p_y: -0.11 - Domain[1] loss_p_y: -0.14\n",
      "Domain[0] loss_p_t: 0.43 - Domain[1] loss_p_t: 0.43\n",
      "Domain[0] loss_p_zt: -14.17 - Domain[1] loss_p_zt: -14.29\n",
      "Domain[0] loss_p_zc: -27.86 - Domain[1] loss_p_zc: -27.68\n",
      "Domain[0] loss_q_zt: -13.58 - Domain[1] loss_q_zt: -13.54\n",
      "Domain[0] loss_q_zc: -24.63 - Domain[1] loss_q_zc: -25.07\n",
      "Domain[0] loss_q_zy: -8.78 - Domain[1] loss_q_zy: -9.17\n",
      "Domain[0] loss_model: 0.32 - Domain[1] loss_model: 0.29\n",
      "Domain[0] val_loss_p_t: 0.59 - Domain[1] val_loss_p_t: 0.57\n",
      "Domain[0] val_loss_p_y: 2.07 - Domain[1] val_loss_p_y: 0.8\n"
     ]
    },
    {
     "name": "stderr",
     "output_type": "stream",
     "text": [
      "/home/almo/anaconda3/envs/federated_tedvae/lib/python3.9/site-packages/tensorflow_addons/utils/tfa_eol_msg.py:23: UserWarning: \n",
      "\n",
      "TensorFlow Addons (TFA) has ended development and introduction of new features.\n",
      "TFA has entered a minimal maintenance and release mode until a planned end of life in May 2024.\n",
      "Please modify downstream libraries to take dependencies from other repositories in our TensorFlow community (e.g. Keras, Keras-CV, and Keras-NLP). \n",
      "\n",
      "For more information see: https://github.com/tensorflow/addons/issues/2807 \n",
      "\n",
      "  warnings.warn(\n"
     ]
    },
    {
     "name": "stdout",
     "output_type": "stream",
     "text": [
      "physical_devices []\n",
      "results/tedvae_ihdp/tedvae_ihdp_a_ablation_vanilla/51,222,51,222\n",
      "DATASET PRESAVED\n",
      "\n",
      " Epoch 0\n",
      "Domain[0] - TOTAL loss: 80.51 - Domain[1] - TOTAL loss: 84.69\n",
      "Domain[0] loss_reconstruction: 23.08 - Domain[1] loss_reconstruction: 22.83\n",
      "Domain[0] loss_kl: 7.83 - Domain[1] loss_kl: 8.53\n",
      "Domain[0] loss_disentanglement: 47.2 - Domain[1] loss_disentanglement: 50.87\n",
      "Domain[0] loss_q_y: 32.18 - Domain[1] loss_q_y: 34.72\n",
      "Domain[0] loss_q_t: 15.02 - Domain[1] loss_q_t: 16.15\n",
      "Domain[0] elbo: 30.92 - Domain[1] elbo: 31.35\n",
      "Domain[0] loss_p_y: 1.56 - Domain[1] loss_p_y: 1.75\n",
      "Domain[0] loss_p_t: 0.83 - Domain[1] loss_p_t: 0.72\n",
      "Domain[0] loss_p_zt: -11.89 - Domain[1] loss_p_zt: -11.87\n",
      "Domain[0] loss_p_zc: -25.39 - Domain[1] loss_p_zc: -24.87\n",
      "Domain[0] loss_q_zt: -10.85 - Domain[1] loss_q_zt: -10.77\n",
      "Domain[0] loss_q_zc: -20.56 - Domain[1] loss_q_zc: -20.52\n",
      "Domain[0] loss_q_zy: -11.12 - Domain[1] loss_q_zy: -9.42\n",
      "Domain[0] loss_model: 2.39 - Domain[1] loss_model: 2.47\n",
      "Domain[0] val_loss_p_t: 0.87 - Domain[1] val_loss_p_t: 0.77\n",
      "Domain[0] val_loss_p_y: 1.84 - Domain[1] val_loss_p_y: 1.91\n",
      "\n",
      " Epoch 200\n",
      "Domain[0] - TOTAL loss: 27.47 - Domain[1] - TOTAL loss: 25.81\n",
      "Domain[0] loss_reconstruction: 11.33 - Domain[1] loss_reconstruction: 11.41\n",
      "Domain[0] loss_kl: 9.6 - Domain[1] loss_kl: 9.62\n",
      "Domain[0] loss_disentanglement: 6.19 - Domain[1] loss_disentanglement: 4.46\n",
      "Domain[0] loss_q_y: -1.82 - Domain[1] loss_q_y: -3.47\n",
      "Domain[0] loss_q_t: 8.01 - Domain[1] loss_q_t: 7.92\n",
      "Domain[0] elbo: 20.92 - Domain[1] elbo: 21.03\n",
      "Domain[0] loss_p_y: -0.1 - Domain[1] loss_p_y: -0.11\n",
      "Domain[0] loss_p_t: 0.46 - Domain[1] loss_p_t: 0.43\n",
      "Domain[0] loss_p_zt: -13.98 - Domain[1] loss_p_zt: -14.1\n",
      "Domain[0] loss_p_zc: -27.89 - Domain[1] loss_p_zc: -28.0\n",
      "Domain[0] loss_q_zt: -13.22 - Domain[1] loss_q_zt: -13.32\n",
      "Domain[0] loss_q_zc: -21.46 - Domain[1] loss_q_zc: -21.62\n",
      "Domain[0] loss_q_zy: -11.22 - Domain[1] loss_q_zy: -11.13\n",
      "Domain[0] loss_model: 0.36 - Domain[1] loss_model: 0.32\n",
      "Domain[0] val_loss_p_t: 0.57 - Domain[1] val_loss_p_t: 0.55\n",
      "Domain[0] val_loss_p_y: 1.13 - Domain[1] val_loss_p_y: 0.83\n"
     ]
    },
    {
     "name": "stderr",
     "output_type": "stream",
     "text": [
      "/home/almo/anaconda3/envs/federated_tedvae/lib/python3.9/site-packages/tensorflow_addons/utils/tfa_eol_msg.py:23: UserWarning: \n",
      "\n",
      "TensorFlow Addons (TFA) has ended development and introduction of new features.\n",
      "TFA has entered a minimal maintenance and release mode until a planned end of life in May 2024.\n",
      "Please modify downstream libraries to take dependencies from other repositories in our TensorFlow community (e.g. Keras, Keras-CV, and Keras-NLP). \n",
      "\n",
      "For more information see: https://github.com/tensorflow/addons/issues/2807 \n",
      "\n",
      "  warnings.warn(\n"
     ]
    },
    {
     "name": "stdout",
     "output_type": "stream",
     "text": [
      "physical_devices []\n",
      "results/tedvae_ihdp/tedvae_ihdp_a_ablation_vanilla/51,222,51,222\n",
      "DATASET PRESAVED\n",
      "\n",
      " Epoch 0\n",
      "Domain[0] - TOTAL loss: 95.02 - Domain[1] - TOTAL loss: 105.04\n",
      "Domain[0] loss_reconstruction: 23.26 - Domain[1] loss_reconstruction: 23.37\n",
      "Domain[0] loss_kl: 9.64 - Domain[1] loss_kl: 10.27\n",
      "Domain[0] loss_disentanglement: 58.59 - Domain[1] loss_disentanglement: 68.06\n",
      "Domain[0] loss_q_y: 43.09 - Domain[1] loss_q_y: 51.46\n",
      "Domain[0] loss_q_t: 15.5 - Domain[1] loss_q_t: 16.6\n",
      "Domain[0] elbo: 32.9 - Domain[1] elbo: 33.63\n",
      "Domain[0] loss_p_y: 2.51 - Domain[1] loss_p_y: 2.52\n",
      "Domain[0] loss_p_t: 1.02 - Domain[1] loss_p_t: 0.83\n",
      "Domain[0] loss_p_zt: -12.9 - Domain[1] loss_p_zt: -12.73\n",
      "Domain[0] loss_p_zc: -24.76 - Domain[1] loss_p_zc: -25.28\n",
      "Domain[0] loss_q_zt: -10.7 - Domain[1] loss_q_zt: -10.53\n",
      "Domain[0] loss_q_zc: -19.66 - Domain[1] loss_q_zc: -19.58\n",
      "Domain[0] loss_q_zy: -10.58 - Domain[1] loss_q_zy: -10.12\n",
      "Domain[0] loss_model: 3.53 - Domain[1] loss_model: 3.35\n",
      "Domain[0] val_loss_p_t: 0.9 - Domain[1] val_loss_p_t: 0.89\n",
      "Domain[0] val_loss_p_y: 2.01 - Domain[1] val_loss_p_y: 1.79\n",
      "\n",
      " Epoch 200\n",
      "Domain[0] - TOTAL loss: 26.06 - Domain[1] - TOTAL loss: 27.7\n",
      "Domain[0] loss_reconstruction: 10.13 - Domain[1] loss_reconstruction: 10.36\n",
      "Domain[0] loss_kl: 11.88 - Domain[1] loss_kl: 10.03\n",
      "Domain[0] loss_disentanglement: 3.79 - Domain[1] loss_disentanglement: 6.85\n",
      "Domain[0] loss_q_y: -2.92 - Domain[1] loss_q_y: -0.81\n",
      "Domain[0] loss_q_t: 6.71 - Domain[1] loss_q_t: 7.66\n",
      "Domain[0] elbo: 22.01 - Domain[1] elbo: 20.39\n",
      "Domain[0] loss_p_y: -0.13 - Domain[1] loss_p_y: -0.03\n",
      "Domain[0] loss_p_t: 0.39 - Domain[1] loss_p_t: 0.49\n",
      "Domain[0] loss_p_zt: -14.48 - Domain[1] loss_p_zt: -14.13\n",
      "Domain[0] loss_p_zc: -26.71 - Domain[1] loss_p_zc: -27.59\n",
      "Domain[0] loss_q_zt: -13.22 - Domain[1] loss_q_zt: -13.67\n",
      "Domain[0] loss_q_zc: -21.08 - Domain[1] loss_q_zc: -22.77\n",
      "Domain[0] loss_q_zy: -8.6 - Domain[1] loss_q_zy: -8.94\n",
      "Domain[0] loss_model: 0.26 - Domain[1] loss_model: 0.46\n",
      "Domain[0] val_loss_p_t: 0.64 - Domain[1] val_loss_p_t: 0.69\n",
      "Domain[0] val_loss_p_y: 1.6 - Domain[1] val_loss_p_y: 1.15\n"
     ]
    },
    {
     "name": "stderr",
     "output_type": "stream",
     "text": [
      "/home/almo/anaconda3/envs/federated_tedvae/lib/python3.9/site-packages/tensorflow_addons/utils/tfa_eol_msg.py:23: UserWarning: \n",
      "\n",
      "TensorFlow Addons (TFA) has ended development and introduction of new features.\n",
      "TFA has entered a minimal maintenance and release mode until a planned end of life in May 2024.\n",
      "Please modify downstream libraries to take dependencies from other repositories in our TensorFlow community (e.g. Keras, Keras-CV, and Keras-NLP). \n",
      "\n",
      "For more information see: https://github.com/tensorflow/addons/issues/2807 \n",
      "\n",
      "  warnings.warn(\n"
     ]
    },
    {
     "name": "stdout",
     "output_type": "stream",
     "text": [
      "physical_devices []\n",
      "results/tedvae_ihdp/tedvae_ihdp_a_ablation_vanilla/51,222,51,222\n",
      "DATASET PRESAVED\n",
      "\n",
      " Epoch 0\n",
      "Domain[0] - TOTAL loss: 86.63 - Domain[1] - TOTAL loss: 78.17\n",
      "Domain[0] loss_reconstruction: 22.12 - Domain[1] loss_reconstruction: 22.36\n",
      "Domain[0] loss_kl: 9.31 - Domain[1] loss_kl: 7.68\n",
      "Domain[0] loss_disentanglement: 52.78 - Domain[1] loss_disentanglement: 45.75\n",
      "Domain[0] loss_q_y: 34.25 - Domain[1] loss_q_y: 32.41\n",
      "Domain[0] loss_q_t: 18.53 - Domain[1] loss_q_t: 13.33\n",
      "Domain[0] elbo: 31.44 - Domain[1] elbo: 30.03\n",
      "Domain[0] loss_p_y: 1.71 - Domain[1] loss_p_y: 1.6\n",
      "Domain[0] loss_p_t: 0.71 - Domain[1] loss_p_t: 0.79\n",
      "Domain[0] loss_p_zt: -11.76 - Domain[1] loss_p_zt: -11.8\n",
      "Domain[0] loss_p_zc: -25.3 - Domain[1] loss_p_zc: -25.07\n",
      "Domain[0] loss_q_zt: -10.62 - Domain[1] loss_q_zt: -10.65\n",
      "Domain[0] loss_q_zc: -19.03 - Domain[1] loss_q_zc: -20.66\n",
      "Domain[0] loss_q_zy: -10.86 - Domain[1] loss_q_zy: -10.85\n",
      "Domain[0] loss_model: 2.41 - Domain[1] loss_model: 2.39\n",
      "Domain[0] val_loss_p_t: 0.77 - Domain[1] val_loss_p_t: 0.78\n",
      "Domain[0] val_loss_p_y: 1.77 - Domain[1] val_loss_p_y: 1.5\n",
      "\n",
      " Epoch 200\n",
      "Domain[0] - TOTAL loss: 27.02 - Domain[1] - TOTAL loss: 28.68\n",
      "Domain[0] loss_reconstruction: 11.95 - Domain[1] loss_reconstruction: 11.94\n",
      "Domain[0] loss_kl: 9.39 - Domain[1] loss_kl: 9.37\n",
      "Domain[0] loss_disentanglement: 5.29 - Domain[1] loss_disentanglement: 6.91\n",
      "Domain[0] loss_q_y: -3.36 - Domain[1] loss_q_y: -1.31\n",
      "Domain[0] loss_q_t: 8.65 - Domain[1] loss_q_t: 8.22\n",
      "Domain[0] elbo: 21.34 - Domain[1] elbo: 21.32\n",
      "Domain[0] loss_p_y: -0.07 - Domain[1] loss_p_y: -0.02\n",
      "Domain[0] loss_p_t: 0.45 - Domain[1] loss_p_t: 0.48\n",
      "Domain[0] loss_p_zt: -14.27 - Domain[1] loss_p_zt: -13.82\n",
      "Domain[0] loss_p_zc: -28.09 - Domain[1] loss_p_zc: -27.66\n",
      "Domain[0] loss_q_zt: -13.91 - Domain[1] loss_q_zt: -13.52\n",
      "Domain[0] loss_q_zc: -23.65 - Domain[1] loss_q_zc: -23.32\n",
      "Domain[0] loss_q_zy: -9.06 - Domain[1] loss_q_zy: -9.29\n",
      "Domain[0] loss_model: 0.38 - Domain[1] loss_model: 0.46\n",
      "Domain[0] val_loss_p_t: 0.52 - Domain[1] val_loss_p_t: 0.53\n",
      "Domain[0] val_loss_p_y: 1.11 - Domain[1] val_loss_p_y: 0.79\n"
     ]
    },
    {
     "name": "stderr",
     "output_type": "stream",
     "text": [
      "/home/almo/anaconda3/envs/federated_tedvae/lib/python3.9/site-packages/tensorflow_addons/utils/tfa_eol_msg.py:23: UserWarning: \n",
      "\n",
      "TensorFlow Addons (TFA) has ended development and introduction of new features.\n",
      "TFA has entered a minimal maintenance and release mode until a planned end of life in May 2024.\n",
      "Please modify downstream libraries to take dependencies from other repositories in our TensorFlow community (e.g. Keras, Keras-CV, and Keras-NLP). \n",
      "\n",
      "For more information see: https://github.com/tensorflow/addons/issues/2807 \n",
      "\n",
      "  warnings.warn(\n"
     ]
    },
    {
     "name": "stdout",
     "output_type": "stream",
     "text": [
      "physical_devices []\n",
      "results/tedvae_ihdp/tedvae_ihdp_a_ablation_vanilla/51,222,51,222\n",
      "DATASET PRESAVED\n",
      "\n",
      " Epoch 0\n",
      "Domain[0] - TOTAL loss: 83.68 - Domain[1] - TOTAL loss: 79.64\n",
      "Domain[0] loss_reconstruction: 22.5 - Domain[1] loss_reconstruction: 22.73\n",
      "Domain[0] loss_kl: 8.39 - Domain[1] loss_kl: 8.61\n",
      "Domain[0] loss_disentanglement: 50.38 - Domain[1] loss_disentanglement: 45.85\n",
      "Domain[0] loss_q_y: 33.3 - Domain[1] loss_q_y: 30.27\n",
      "Domain[0] loss_q_t: 17.09 - Domain[1] loss_q_t: 15.58\n",
      "Domain[0] elbo: 30.89 - Domain[1] elbo: 31.34\n",
      "Domain[0] loss_p_y: 1.66 - Domain[1] loss_p_y: 1.67\n",
      "Domain[0] loss_p_t: 0.74 - Domain[1] loss_p_t: 0.79\n",
      "Domain[0] loss_p_zt: -11.65 - Domain[1] loss_p_zt: -11.76\n",
      "Domain[0] loss_p_zc: -25.18 - Domain[1] loss_p_zc: -25.32\n",
      "Domain[0] loss_q_zt: -10.32 - Domain[1] loss_q_zt: -10.64\n",
      "Domain[0] loss_q_zc: -20.4 - Domain[1] loss_q_zc: -20.14\n",
      "Domain[0] loss_q_zy: -10.61 - Domain[1] loss_q_zy: -10.94\n",
      "Domain[0] loss_model: 2.4 - Domain[1] loss_model: 2.46\n",
      "Domain[0] val_loss_p_t: 0.69 - Domain[1] val_loss_p_t: 0.74\n",
      "Domain[0] val_loss_p_y: 1.53 - Domain[1] val_loss_p_y: 1.53\n",
      "\n",
      " Epoch 200\n",
      "Domain[0] - TOTAL loss: 27.0 - Domain[1] - TOTAL loss: 30.01\n",
      "Domain[0] loss_reconstruction: 12.71 - Domain[1] loss_reconstruction: 12.97\n",
      "Domain[0] loss_kl: 9.39 - Domain[1] loss_kl: 9.23\n",
      "Domain[0] loss_disentanglement: 4.64 - Domain[1] loss_disentanglement: 7.43\n",
      "Domain[0] loss_q_y: -3.78 - Domain[1] loss_q_y: -0.91\n",
      "Domain[0] loss_q_t: 8.42 - Domain[1] loss_q_t: 8.34\n",
      "Domain[0] elbo: 22.1 - Domain[1] elbo: 22.2\n",
      "Domain[0] loss_p_y: -0.18 - Domain[1] loss_p_y: -0.07\n",
      "Domain[0] loss_p_t: 0.44 - Domain[1] loss_p_t: 0.46\n",
      "Domain[0] loss_p_zt: -13.99 - Domain[1] loss_p_zt: -14.07\n",
      "Domain[0] loss_p_zc: -27.92 - Domain[1] loss_p_zc: -27.56\n",
      "Domain[0] loss_q_zt: -13.74 - Domain[1] loss_q_zt: -13.82\n",
      "Domain[0] loss_q_zc: -22.0 - Domain[1] loss_q_zc: -21.98\n",
      "Domain[0] loss_q_zy: -10.6 - Domain[1] loss_q_zy: -10.56\n",
      "Domain[0] loss_model: 0.26 - Domain[1] loss_model: 0.39\n",
      "Domain[0] val_loss_p_t: 0.53 - Domain[1] val_loss_p_t: 0.49\n",
      "Domain[0] val_loss_p_y: 1.39 - Domain[1] val_loss_p_y: 1.0\n"
     ]
    },
    {
     "name": "stderr",
     "output_type": "stream",
     "text": [
      "/home/almo/anaconda3/envs/federated_tedvae/lib/python3.9/site-packages/tensorflow_addons/utils/tfa_eol_msg.py:23: UserWarning: \n",
      "\n",
      "TensorFlow Addons (TFA) has ended development and introduction of new features.\n",
      "TFA has entered a minimal maintenance and release mode until a planned end of life in May 2024.\n",
      "Please modify downstream libraries to take dependencies from other repositories in our TensorFlow community (e.g. Keras, Keras-CV, and Keras-NLP). \n",
      "\n",
      "For more information see: https://github.com/tensorflow/addons/issues/2807 \n",
      "\n",
      "  warnings.warn(\n"
     ]
    },
    {
     "name": "stdout",
     "output_type": "stream",
     "text": [
      "physical_devices []\n",
      "results/tedvae_ihdp/tedvae_ihdp_a_ablation_vanilla/51,222,51,222\n",
      "DATASET PRESAVED\n",
      "\n",
      " Epoch 0\n",
      "Domain[0] - TOTAL loss: 95.85 - Domain[1] - TOTAL loss: 110.49\n",
      "Domain[0] loss_reconstruction: 23.54 - Domain[1] loss_reconstruction: 24.41\n",
      "Domain[0] loss_kl: 8.51 - Domain[1] loss_kl: 8.48\n",
      "Domain[0] loss_disentanglement: 60.62 - Domain[1] loss_disentanglement: 75.12\n",
      "Domain[0] loss_q_y: 42.23 - Domain[1] loss_q_y: 58.92\n",
      "Domain[0] loss_q_t: 18.38 - Domain[1] loss_q_t: 16.2\n",
      "Domain[0] elbo: 32.05 - Domain[1] elbo: 32.89\n",
      "Domain[0] loss_p_y: 2.36 - Domain[1] loss_p_y: 1.63\n",
      "Domain[0] loss_p_t: 0.82 - Domain[1] loss_p_t: 0.86\n",
      "Domain[0] loss_p_zt: -13.11 - Domain[1] loss_p_zt: -12.9\n",
      "Domain[0] loss_p_zc: -24.67 - Domain[1] loss_p_zc: -25.81\n",
      "Domain[0] loss_q_zt: -10.93 - Domain[1] loss_q_zt: -10.7\n",
      "Domain[0] loss_q_zc: -20.24 - Domain[1] loss_q_zc: -21.54\n",
      "Domain[0] loss_q_zy: -10.88 - Domain[1] loss_q_zy: -10.75\n",
      "Domain[0] loss_model: 3.18 - Domain[1] loss_model: 2.49\n",
      "Domain[0] val_loss_p_t: 0.99 - Domain[1] val_loss_p_t: 0.77\n",
      "Domain[0] val_loss_p_y: 1.87 - Domain[1] val_loss_p_y: 1.66\n",
      "\n",
      " Epoch 200\n",
      "Domain[0] - TOTAL loss: 22.68 - Domain[1] - TOTAL loss: 29.58\n",
      "Domain[0] loss_reconstruction: 11.35 - Domain[1] loss_reconstruction: 11.76\n",
      "Domain[0] loss_kl: 10.05 - Domain[1] loss_kl: 9.16\n",
      "Domain[0] loss_disentanglement: 1.04 - Domain[1] loss_disentanglement: 8.11\n",
      "Domain[0] loss_q_y: -5.75 - Domain[1] loss_q_y: 0.03\n",
      "Domain[0] loss_q_t: 6.79 - Domain[1] loss_q_t: 8.08\n",
      "Domain[0] elbo: 21.39 - Domain[1] elbo: 20.92\n",
      "Domain[0] loss_p_y: -0.19 - Domain[1] loss_p_y: 0.1\n",
      "Domain[0] loss_p_t: 0.44 - Domain[1] loss_p_t: 0.45\n",
      "Domain[0] loss_p_zt: -14.1 - Domain[1] loss_p_zt: -14.42\n",
      "Domain[0] loss_p_zc: -27.11 - Domain[1] loss_p_zc: -27.31\n",
      "Domain[0] loss_q_zt: -13.52 - Domain[1] loss_q_zt: -13.52\n",
      "Domain[0] loss_q_zc: -21.52 - Domain[1] loss_q_zc: -22.83\n",
      "Domain[0] loss_q_zy: -9.59 - Domain[1] loss_q_zy: -9.59\n",
      "Domain[0] loss_model: 0.24 - Domain[1] loss_model: 0.55\n",
      "Domain[0] val_loss_p_t: 0.61 - Domain[1] val_loss_p_t: 0.45\n",
      "Domain[0] val_loss_p_y: 1.85 - Domain[1] val_loss_p_y: 1.56\n"
     ]
    },
    {
     "name": "stderr",
     "output_type": "stream",
     "text": [
      "/home/almo/anaconda3/envs/federated_tedvae/lib/python3.9/site-packages/tensorflow_addons/utils/tfa_eol_msg.py:23: UserWarning: \n",
      "\n",
      "TensorFlow Addons (TFA) has ended development and introduction of new features.\n",
      "TFA has entered a minimal maintenance and release mode until a planned end of life in May 2024.\n",
      "Please modify downstream libraries to take dependencies from other repositories in our TensorFlow community (e.g. Keras, Keras-CV, and Keras-NLP). \n",
      "\n",
      "For more information see: https://github.com/tensorflow/addons/issues/2807 \n",
      "\n",
      "  warnings.warn(\n"
     ]
    },
    {
     "name": "stdout",
     "output_type": "stream",
     "text": [
      "physical_devices []\n",
      "results/tedvae_ihdp/tedvae_ihdp_a_ablation_vanilla/51,222,51,222\n",
      "DATASET PRESAVED\n",
      "\n",
      " Epoch 0\n",
      "Domain[0] - TOTAL loss: 81.58 - Domain[1] - TOTAL loss: 77.4\n",
      "Domain[0] loss_reconstruction: 22.9 - Domain[1] loss_reconstruction: 22.78\n",
      "Domain[0] loss_kl: 7.86 - Domain[1] loss_kl: 8.31\n",
      "Domain[0] loss_disentanglement: 48.43 - Domain[1] loss_disentanglement: 43.95\n",
      "Domain[0] loss_q_y: 33.92 - Domain[1] loss_q_y: 29.3\n",
      "Domain[0] loss_q_t: 14.51 - Domain[1] loss_q_t: 14.65\n",
      "Domain[0] elbo: 30.76 - Domain[1] elbo: 31.09\n",
      "Domain[0] loss_p_y: 1.68 - Domain[1] loss_p_y: 1.56\n",
      "Domain[0] loss_p_t: 0.71 - Domain[1] loss_p_t: 0.8\n",
      "Domain[0] loss_p_zt: -11.74 - Domain[1] loss_p_zt: -11.92\n",
      "Domain[0] loss_p_zc: -25.06 - Domain[1] loss_p_zc: -25.48\n",
      "Domain[0] loss_q_zt: -10.52 - Domain[1] loss_q_zt: -10.94\n",
      "Domain[0] loss_q_zc: -20.67 - Domain[1] loss_q_zc: -20.35\n",
      "Domain[0] loss_q_zy: -10.43 - Domain[1] loss_q_zy: -11.43\n",
      "Domain[0] loss_model: 2.39 - Domain[1] loss_model: 2.36\n",
      "Domain[0] val_loss_p_t: 0.61 - Domain[1] val_loss_p_t: 0.81\n",
      "Domain[0] val_loss_p_y: 1.65 - Domain[1] val_loss_p_y: 1.8\n",
      "\n",
      " Epoch 200\n",
      "Domain[0] - TOTAL loss: 29.46 - Domain[1] - TOTAL loss: 27.83\n",
      "Domain[0] loss_reconstruction: 12.58 - Domain[1] loss_reconstruction: 12.47\n",
      "Domain[0] loss_kl: 9.42 - Domain[1] loss_kl: 9.15\n",
      "Domain[0] loss_disentanglement: 7.03 - Domain[1] loss_disentanglement: 5.85\n",
      "Domain[0] loss_q_y: -1.49 - Domain[1] loss_q_y: -2.66\n",
      "Domain[0] loss_q_t: 8.52 - Domain[1] loss_q_t: 8.51\n",
      "Domain[0] elbo: 21.99 - Domain[1] elbo: 21.62\n",
      "Domain[0] loss_p_y: -0.05 - Domain[1] loss_p_y: -0.09\n",
      "Domain[0] loss_p_t: 0.49 - Domain[1] loss_p_t: 0.46\n",
      "Domain[0] loss_p_zt: -14.06 - Domain[1] loss_p_zt: -13.99\n",
      "Domain[0] loss_p_zc: -28.17 - Domain[1] loss_p_zc: -27.63\n",
      "Domain[0] loss_q_zt: -13.55 - Domain[1] loss_q_zt: -13.65\n",
      "Domain[0] loss_q_zc: -22.53 - Domain[1] loss_q_zc: -22.04\n",
      "Domain[0] loss_q_zy: -10.58 - Domain[1] loss_q_zy: -10.69\n",
      "Domain[0] loss_model: 0.44 - Domain[1] loss_model: 0.36\n",
      "Domain[0] val_loss_p_t: 0.51 - Domain[1] val_loss_p_t: 0.55\n",
      "Domain[0] val_loss_p_y: 0.96 - Domain[1] val_loss_p_y: 0.83\n"
     ]
    },
    {
     "name": "stderr",
     "output_type": "stream",
     "text": [
      "/home/almo/anaconda3/envs/federated_tedvae/lib/python3.9/site-packages/tensorflow_addons/utils/tfa_eol_msg.py:23: UserWarning: \n",
      "\n",
      "TensorFlow Addons (TFA) has ended development and introduction of new features.\n",
      "TFA has entered a minimal maintenance and release mode until a planned end of life in May 2024.\n",
      "Please modify downstream libraries to take dependencies from other repositories in our TensorFlow community (e.g. Keras, Keras-CV, and Keras-NLP). \n",
      "\n",
      "For more information see: https://github.com/tensorflow/addons/issues/2807 \n",
      "\n",
      "  warnings.warn(\n"
     ]
    }
   ],
   "source": [
    "#FEDERATED EXPERIMENT\n",
    "\n",
    "for imb in imbalances:\n",
    "    _results_path = results_path + '/' + str(imb)\n",
    "    if not os.path.exists(_results_path):\n",
    "        os.makedirs(_results_path)\n",
    "    for dataset in datasets:\n",
    "        for fedavg in fedavg_strategies.split(','):\n",
    "            command = ['python', \"federated/fed_tedvae.py\",\n",
    "                               '--experiment', str(dataset),\n",
    "                               '--nnodes', str(n_nodes),\n",
    "                               '--verbose', str(0),\n",
    "                               '--fedavg', fedavg,\n",
    "                               '--datapath', data_path,\n",
    "                               '--data_setting', data_setting,\n",
    "                               '--resultspath', _results_path,\n",
    "                               '--train_test_val_split', test_val_split,\n",
    "                               '--treatment_split', str(imb)]\n",
    "            \n",
    "            # Run the script with the modified arguments using subprocess\n",
    "            subprocess.run(command)\n",
    "            \n",
    "\n",
    "\n"
   ],
   "metadata": {
    "collapsed": false,
    "is_executing": true,
    "ExecuteTime": {
     "start_time": "2023-11-02T10:39:30.902983090Z"
    }
   },
   "id": "cf55f3f42fac6e57"
  },
  {
   "cell_type": "code",
   "execution_count": null,
   "outputs": [],
   "source": [
    "#CENTRALIZED EXPERIMENT\n",
    "for imb in imbalances:\n",
    "    _results_path = results_path + '/' + str(imb)\n",
    "    if not os.path.exists(_results_path):\n",
    "        os.makedirs(_results_path)\n",
    "    for dataset in datasets:\n",
    "        command = ['python', \"centralized/centralized_tedvae.py\",\n",
    "                   '--experiment', str(dataset),\n",
    "                   '--verbose', str(verbose),\n",
    "                   '--datapath', data_path,\n",
    "                   '--data_setting', data_setting,\n",
    "                   '--resultspath', _results_path,\n",
    "                   '--train_test_val_split', test_val_split,\n",
    "                   '--treatment_split', str(imb)]\n",
    "        # command += ['--splittreatment'] if splittreatment else []\n",
    "\n",
    "        # Run the script with the modified arguments using subprocess\n",
    "        subprocess.run(command)"
   ],
   "metadata": {
    "collapsed": false,
    "is_executing": true
   },
   "id": "2eceb5e9d9bcacd8"
  },
  {
   "cell_type": "code",
   "execution_count": null,
   "outputs": [],
   "source": [
    "\n",
    "exps = ' '.join(str(i) for i in datasets)\n",
    "command = ['python', \"present_results.py\",\n",
    "                '--fedavg', fedavg_strategies,\n",
    "                '--resultspath', results_path,\n",
    "                '--imbalance', imbalance_name,\n",
    "                '--experiments', exps]\n",
    "subprocess.run(command)"
   ],
   "metadata": {
    "collapsed": false,
    "is_executing": true
   },
   "id": "5e5ecf6e28a808cf"
  },
  {
   "cell_type": "code",
   "execution_count": null,
   "outputs": [],
   "source": [],
   "metadata": {
    "collapsed": false,
    "is_executing": true
   },
   "id": "f86f29a22d97fc98"
  }
 ],
 "metadata": {
  "kernelspec": {
   "display_name": "Python 3",
   "language": "python",
   "name": "python3"
  },
  "language_info": {
   "codemirror_mode": {
    "name": "ipython",
    "version": 2
   },
   "file_extension": ".py",
   "mimetype": "text/x-python",
   "name": "python",
   "nbconvert_exporter": "python",
   "pygments_lexer": "ipython2",
   "version": "2.7.6"
  }
 },
 "nbformat": 4,
 "nbformat_minor": 5
}
